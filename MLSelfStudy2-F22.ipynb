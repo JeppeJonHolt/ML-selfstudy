{
 "cells": [
  {
   "cell_type": "code",
   "execution_count": 739,
   "metadata": {},
   "outputs": [],
   "source": [
    "import numpy as np\n",
    "import matplotlib as mpl\n",
    "import pandas as pd\n",
    "from numpy.random import multivariate_normal\n",
    "import matplotlib.pyplot as plt\n",
    "from sklearn.naive_bayes import GaussianNB\n",
    "from sklearn.discriminant_analysis import LinearDiscriminantAnalysis\n",
    "from sklearn.linear_model import LogisticRegression\n",
    "from sklearn.svm import SVC\n",
    "from sklearn import mixture\n",
    "from sklearn.model_selection import train_test_split\n",
    "from sklearn.datasets import make_moons,make_blobs\n",
    "from sklearn.metrics import accuracy_score"
   ]
  },
  {
   "cell_type": "markdown",
   "metadata": {},
   "source": [
    "A couple of helper functions we can use:"
   ]
  },
  {
   "cell_type": "code",
   "execution_count": 740,
   "metadata": {},
   "outputs": [],
   "source": [
    "def sample_2d_gaussian(meanx,meany,variance_x,variance_y,covariance,numsamps):\n",
    "    '''\n",
    "    Generates a random sample of size 'numsamps' from a 2-dimensional Gaussian distribution.\n",
    "    The Gaussian is defined by the mean vector (meanx,meany) and the \n",
    "    covariance matrix\n",
    "    \n",
    "    variance_x    covariance\n",
    "    covariance    variance_y\n",
    "    \n",
    "    All parameters can be freely chosen, except covariance, which must satisfy the inequality\n",
    "    \n",
    "    covariance <= sqrt(variance_x * variance_y)\n",
    "    '''\n",
    "    meanvec = np.array([meanx,meany])\n",
    "    covarmatrix = np.array([[variance_x,covariance],[covariance,variance_y]])\n",
    "    return multivariate_normal(meanvec,covarmatrix,numsamps)\n",
    "\n",
    "\n",
    "def maxpos(A):\n",
    "    '''\n",
    "    Takes an n x k array A, and returns 1-dim n array where the i'th\n",
    "    entry is the index of column in A where the i'th row of A has its\n",
    "    maximal value (application: turns a probabilitiy distribution over\n",
    "    k classes for n instances into a single prediction)\n",
    "    '''\n",
    "    return np.argmax(A,axis=1)\n",
    "    "
   ]
  },
  {
   "cell_type": "markdown",
   "metadata": {},
   "source": [
    "### Part 1: Decision regions for simple 2 dimensional datasets"
   ]
  },
  {
   "cell_type": "markdown",
   "metadata": {},
   "source": [
    "Loading/generating data: following are several alternative ways to get data consisting of the input features stored in 'features', and the class labels, stored in 'labels'.  Only execute one of the data generating cells, before moving on to the following code!"
   ]
  },
  {
   "cell_type": "markdown",
   "metadata": {},
   "source": [
    "**A**: sampling data from 2-dimensional Gaussian distributions. For reproducibility, one can fix a random seed."
   ]
  },
  {
   "cell_type": "markdown",
   "metadata": {},
   "source": [
    "np.random.seed(1)\n",
    "datasize=250\n",
    "mixturecoeff=np.array([0.4,0.2,0.4])\n",
    "componentsizes=(datasize*mixturecoeff).astype(int)\n",
    "\n",
    "# class0samp=sample_2d_gaussian(2,3,0.5,0.5,0.45,componentsizes[0])\n",
    "# class1samp=sample_2d_gaussian(5,3,1.0,0.5,-0.45,componentsizes[1])\n",
    "# class2samp=sample_2d_gaussian(3,2,0.5,0.5,0,componentsizes[2])\n",
    "\n",
    "class0samp=sample_2d_gaussian(50,3,8.0,8.0,1.0,componentsizes[0])\n",
    "class1samp=sample_2d_gaussian(40,8,1.4,0.5,-0.45,componentsizes[1])\n",
    "class2samp=sample_2d_gaussian(30,2,0.6,0.5,0,componentsizes[2])\n",
    "\n",
    "  \n",
    "  \n",
    "features=np.concatenate((class0samp,class1samp,class2samp),axis=0)\n",
    "labels=np.concatenate((np.zeros(componentsizes[0]),np.ones(componentsizes[1]),2*np.ones(componentsizes[2])))         "
   ]
  },
  {
   "cell_type": "markdown",
   "metadata": {},
   "source": [
    "**B**: Loading mi.txt data:"
   ]
  },
  {
   "cell_type": "code",
   "execution_count": 741,
   "metadata": {},
   "outputs": [],
   "source": [
    "midata = pd.read_csv(\"MI-labeled.txt\", sep=',')\n",
    "features = np.array(midata[['X1','X2']])\n",
    "classlabels=midata['Class']\n",
    "labels = np.zeros(len(classlabels))\n",
    "for i in range(len(classlabels)):\n",
    "    if classlabels[i] == 'I':\n",
    "        labels[i]=1"
   ]
  },
  {
   "cell_type": "markdown",
   "metadata": {},
   "source": [
    "Preparing meshgrid for plotting decision regions:"
   ]
  },
  {
   "cell_type": "code",
   "execution_count": 742,
   "metadata": {},
   "outputs": [],
   "source": [
    "maxvalx = np.max(features[:,0])\n",
    "maxvaly = np.max(features[:,1])\n",
    "minvalx = np.min(features[:,0])\n",
    "minvaly = np.min(features[:,1])\n",
    "border=2\n",
    "xinterval = (maxvalx-minvalx)/border\n",
    "yinterval = (maxvaly-minvaly)/border\n",
    "xx, yy = np.meshgrid(np.arange(minvalx-xinterval, maxvalx+xinterval, xinterval/100), np.arange(minvaly-yinterval, maxvaly+yinterval, yinterval/100))\n",
    "      "
   ]
  },
  {
   "cell_type": "markdown",
   "metadata": {},
   "source": [
    "Learning a classifier -- uncomment to select the classification model to use."
   ]
  },
  {
   "cell_type": "code",
   "execution_count": 743,
   "metadata": {},
   "outputs": [
    {
     "data": {
      "text/plain": [
       "GaussianNB()"
      ]
     },
     "execution_count": 743,
     "metadata": {},
     "output_type": "execute_result"
    }
   ],
   "source": [
    "model=GaussianNB()\n",
    "#model=LinearDiscriminantAnalysis()\n",
    "#model = LogisticRegression()\n",
    "#model = SVC(kernel='linear')\n",
    "\n",
    "model.fit(features,labels)"
   ]
  },
  {
   "cell_type": "markdown",
   "metadata": {},
   "source": [
    "Applying model to the meshgrid. All models return a quantitative \"likelihood\" for the different classes. For the probabilistic models, these are class label probabilities that are retrieved using the `.predict_proba` method. For the non-probabilistic SVC model, this is the `decision_function` method. In all cases, we classify a datapoint as belonging to the class with the maximal \"likelihood\" value."
   ]
  },
  {
   "cell_type": "code",
   "execution_count": 744,
   "metadata": {},
   "outputs": [],
   "source": [
    "Z=model.predict_proba(np.c_[xx.ravel(), yy.ravel()])\n",
    "#Z=model.decision_function(np.c_[xx.ravel(), yy.ravel()])\n",
    "meshclasses = maxpos(Z)\n",
    "#meshclasses = np.ones(Z.size)\n",
    "#meshclasses[Z<0]=0\n",
    "meshclasses = meshclasses.reshape(xx.shape)"
   ]
  },
  {
   "cell_type": "code",
   "execution_count": 745,
   "metadata": {},
   "outputs": [
    {
     "data": {
      "text/plain": [
       "(160000, 2)"
      ]
     },
     "execution_count": 745,
     "metadata": {},
     "output_type": "execute_result"
    }
   ],
   "source": [
    "Z.shape\n"
   ]
  },
  {
   "cell_type": "markdown",
   "metadata": {},
   "source": [
    "Plotting datapoints and decision regions"
   ]
  },
  {
   "cell_type": "code",
   "execution_count": 746,
   "metadata": {},
   "outputs": [
    {
     "data": {
      "image/png": "[encoded data removed]",
      "text/plain": [
       "<Figure size 432x288 with 1 Axes>"
      ]
     },
     "metadata": {
      "needs_background": "light"
     },
     "output_type": "display_data"
    }
   ],
   "source": [
    "plt.contourf(xx,yy,meshclasses,[-0.1,0.1,1,2],colors=('tomato','lightblue','lightgreen'))\n",
    "plt.scatter(features[:,0],features[:,1],c=labels, cmap = mpl.colors.ListedColormap(['r', 'b','g']))\n",
    "#plt.scatter(data[:,0],data[:,1],c=classlabels_numeric, cmap = mpl.colors.ListedColormap(['r', 'b']))\n",
    "plt.show()"
   ]
  },
  {
   "cell_type": "markdown",
   "metadata": {},
   "source": [
    "We also calculate the predictions on the (training) datapoints, and check the accuracy:"
   ]
  },
  {
   "cell_type": "code",
   "execution_count": 747,
   "metadata": {},
   "outputs": [
    {
     "name": "stdout",
     "output_type": "stream",
     "text": [
      "Accuracy: 1.0\n"
     ]
    }
   ],
   "source": [
    "pred_labels=model.predict(features)\n",
    "print(\"Accuracy: {}\".format(accuracy_score(labels,pred_labels)))"
   ]
  },
  {
   "cell_type": "markdown",
   "metadata": {},
   "source": [
    "**Exercise 1**: Experiment with the three classifiers Gaussian Naive Bayes, Linear Discriminant Analysis, Logistic Regression, and linear support vector machines. Use the MI data, and different mixtures of Gaussians you create by varying the parameters in `sample_2d_gaussian'. \n",
    "\n",
    "For the Gaussian mixture data:\n",
    "\n",
    "Create one or several linearly separable Gaussian mixture datasets (can be with only two components) for which some of the models give a perfect separation of the classes, and others don't. \n",
    "\n",
    "Create separate test sets using the same parameters for the Gaussian mixture as in the creation of the training set. Can you create a test/train dataset and find classifiers A and B, such that A is better than B on the training data, but B is better than A on the test set? Why is this not such an easy task for the datasets and classifiers we consider her?\n",
    "\n",
    "For the MI data:\n",
    "\n",
    "explain the structure of the decision regions you find for the different classifiers.\n"
   ]
  },
  {
   "cell_type": "markdown",
   "metadata": {},
   "source": [
    "The decision boudaries for the gaussian are somewhat rounded while the other are more straight lines:\n",
    "![Gaussian](imgs/Gaussian2.png)\n",
    "\n",
    "The three other look more or less the same, the only real diffrence being in some of the region sizes:\n",
    "Linear regression:\n",
    "\n",
    "![LinReg](imgs/LinReg2.png)\n",
    "Logitic regression:\n",
    "\n",
    "![LogReg](imgs/LogReg2.png)\n",
    "SVM:\n",
    "\n",
    "![LinSVC](imgs/LinSVC2.png)\n",
    "\n",
    "Here is a dataset where the linear discriminant analysis cannot separate the classes.\n",
    "But where the other models can.\n",
    "LDA:\n",
    "![LDA](imgs/LDA_FAIL2.png)\n",
    "An example of a perfect separation can be seen here with the Gaussian classifier:\n",
    "![Gaussian_perfect](imgs/Gaussian_succ2.png)\n",
    "\n",
    "For the test data if the gaussian data for the data uses the same parameters it will not be be noticeably different. But if the variance was high enough it would probably find some edge cases where one was better than the other.\n",
    "\n",
    "#### MI Data\n",
    "\n",
    "The distribution the MI data Works on all of the classifiers except for LDA, where the others perfectly separate the classes.\n",
    "\n",
    "The reason for this could be that the LDA assumes that the data will always have the same variance, but this is not the case for this dataset. So because of this the LDA cannot separate the classes, perfectly."
   ]
  },
  {
   "cell_type": "markdown",
   "metadata": {},
   "source": [
    "### Part 2: the Boston Housing data"
   ]
  },
  {
   "cell_type": "markdown",
   "metadata": {},
   "source": [
    "We next investigate some \"real\" data: the Boston housing dataset contains information on different socio-economic features in different areas around Boston, and the median house value in these areas. The usual machine learning problem for this dataset is the regression problem of predicting the median value. We can turn it into a binary prediction problem whether the median value is above the median (of the median values). \n",
    "\n",
    "The `load_boston` function returns the dataset in the form of a dictionary with attributes DESCR, data, and target."
   ]
  },
  {
   "cell_type": "code",
   "execution_count": 748,
   "metadata": {},
   "outputs": [
    {
     "name": "stdout",
     "output_type": "stream",
     "text": [
      ".. _boston_dataset:\n",
      "\n",
      "Boston house prices dataset\n",
      "---------------------------\n",
      "\n",
      "**Data Set Characteristics:**  \n",
      "\n",
      "    :Number of Instances: 506 \n",
      "\n",
      "    :Number of Attributes: 13 numeric/categorical predictive. Median Value (attribute 14) is usually the target.\n",
      "\n",
      "    :Attribute Information (in order):\n",
      "        - CRIM     per capita crime rate by town\n",
      "        - ZN       proportion of residential land zoned for lots over 25,000 sq.ft.\n",
      "        - INDUS    proportion of non-retail business acres per town\n",
      "        - CHAS     Charles River dummy variable (= 1 if tract bounds river; 0 otherwise)\n",
      "        - NOX      nitric oxides concentration (parts per 10 million)\n",
      "        - RM       average number of rooms per dwelling\n",
      "        - AGE      proportion of owner-occupied units built prior to 1940\n",
      "        - DIS      weighted distances to five Boston employment centres\n",
      "        - RAD      index of accessibility to radial highways\n",
      "        - TAX      full-value property-tax rate per $10,000\n",
      "        - PTRATIO  pupil-teacher ratio by town\n",
      "        - B        1000(Bk - 0.63)^2 where Bk is the proportion of black people by town\n",
      "        - LSTAT    % lower status of the population\n",
      "        - MEDV     Median value of owner-occupied homes in $1000's\n",
      "\n",
      "    :Missing Attribute Values: None\n",
      "\n",
      "    :Creator: Harrison, D. and Rubinfeld, D.L.\n",
      "\n",
      "This is a copy of UCI ML housing dataset.\n",
      "https://archive.ics.uci.edu/ml/machine-learning-databases/housing/\n",
      "\n",
      "\n",
      "This dataset was taken from the StatLib library which is maintained at Carnegie Mellon University.\n",
      "\n",
      "The Boston house-price data of Harrison, D. and Rubinfeld, D.L. 'Hedonic\n",
      "prices and the demand for clean air', J. Environ. Economics & Management,\n",
      "vol.5, 81-102, 1978.   Used in Belsley, Kuh & Welsch, 'Regression diagnostics\n",
      "...', Wiley, 1980.   N.B. Various transformations are used in the table on\n",
      "pages 244-261 of the latter.\n",
      "\n",
      "The Boston house-price data has been used in many machine learning papers that address regression\n",
      "problems.   \n",
      "     \n",
      ".. topic:: References\n",
      "\n",
      "   - Belsley, Kuh & Welsch, 'Regression diagnostics: Identifying Influential Data and Sources of Collinearity', Wiley, 1980. 244-261.\n",
      "   - Quinlan,R. (1993). Combining Instance-Based and Model-Based Learning. In Proceedings on the Tenth International Conference of Machine Learning, 236-243, University of Massachusetts, Amherst. Morgan Kaufmann.\n",
      "\n"
     ]
    },
    {
     "name": "stderr",
     "output_type": "stream",
     "text": [
      "C:\\Users\\Jeppe\\AppData\\Local\\Programs\\Python\\Python310\\lib\\site-packages\\sklearn\\utils\\deprecation.py:87: FutureWarning: Function load_boston is deprecated; `load_boston` is deprecated in 1.0 and will be removed in 1.2.\n",
      "\n",
      "    The Boston housing prices dataset has an ethical problem. You can refer to\n",
      "    the documentation of this function for further details.\n",
      "\n",
      "    The scikit-learn maintainers therefore strongly discourage the use of this\n",
      "    dataset unless the purpose of the code is to study and educate about\n",
      "    ethical issues in data science and machine learning.\n",
      "\n",
      "    In this special case, you can fetch the dataset from the original\n",
      "    source::\n",
      "\n",
      "        import pandas as pd\n",
      "        import numpy as np\n",
      "\n",
      "\n",
      "        data_url = \"http://lib.stat.cmu.edu/datasets/boston\"\n",
      "        raw_df = pd.read_csv(data_url, sep=\"\\s+\", skiprows=22, header=None)\n",
      "        data = np.hstack([raw_df.values[::2, :], raw_df.values[1::2, :2]])\n",
      "        target = raw_df.values[1::2, 2]\n",
      "\n",
      "    Alternative datasets include the California housing dataset (i.e.\n",
      "    :func:`~sklearn.datasets.fetch_california_housing`) and the Ames housing\n",
      "    dataset. You can load the datasets as follows::\n",
      "\n",
      "        from sklearn.datasets import fetch_california_housing\n",
      "        housing = fetch_california_housing()\n",
      "\n",
      "    for the California housing dataset and::\n",
      "\n",
      "        from sklearn.datasets import fetch_openml\n",
      "        housing = fetch_openml(name=\"house_prices\", as_frame=True)\n",
      "\n",
      "    for the Ames housing dataset.\n",
      "    \n",
      "  warnings.warn(msg, category=FutureWarning)\n"
     ]
    }
   ],
   "source": [
    "from sklearn.datasets import load_boston\n",
    "bostondata = load_boston() \n",
    "print(bostondata.DESCR)"
   ]
  },
  {
   "cell_type": "markdown",
   "metadata": {},
   "source": [
    "We generate our labels, and create a train/test split:"
   ]
  },
  {
   "cell_type": "code",
   "execution_count": 749,
   "metadata": {},
   "outputs": [],
   "source": [
    "labels = np.array([1 if y > np.median(bostondata['target']) else 0 for y in bostondata['target']])\n",
    "features = bostondata['data']\n",
    "features_train,features_test,labels_train,labels_test = train_test_split(features,labels)"
   ]
  },
  {
   "cell_type": "markdown",
   "metadata": {},
   "source": [
    "Selecting a model class, learning, and measuring accuracy:"
   ]
  },
  {
   "cell_type": "code",
   "execution_count": 750,
   "metadata": {},
   "outputs": [
    {
     "name": "stdout",
     "output_type": "stream",
     "text": [
      "GaussianNB\n",
      " - Accuracy train: 0.7757255936675461\n",
      " - Accuracy test: 0.7480314960629921\n",
      "LinearDiscriminantAnalysis\n",
      " - Accuracy train: 0.862796833773087\n",
      " - Accuracy test: 0.84251968503937\n",
      "LogisticRegression\n",
      " - Accuracy train: 0.8654353562005277\n",
      " - Accuracy test: 0.8267716535433071\n"
     ]
    },
    {
     "name": "stderr",
     "output_type": "stream",
     "text": [
      "C:\\Users\\Jeppe\\AppData\\Local\\Programs\\Python\\Python310\\lib\\site-packages\\sklearn\\linear_model\\_logistic.py:814: ConvergenceWarning: lbfgs failed to converge (status=1):\n",
      "STOP: TOTAL NO. of ITERATIONS REACHED LIMIT.\n",
      "\n",
      "Increase the number of iterations (max_iter) or scale the data as shown in:\n",
      "    https://scikit-learn.org/stable/modules/preprocessing.html\n",
      "Please also refer to the documentation for alternative solver options:\n",
      "    https://scikit-learn.org/stable/modules/linear_model.html#logistic-regression\n",
      "  n_iter_i = _check_optimize_result(\n"
     ]
    },
    {
     "name": "stdout",
     "output_type": "stream",
     "text": [
      "SVC\n",
      " - Accuracy train: 0.8733509234828496\n",
      " - Accuracy test: 0.84251968503937\n"
     ]
    }
   ],
   "source": [
    "models = {\n",
    "    \"GaussianNB\":GaussianNB(),\n",
    "    \"LinearDiscriminantAnalysis\":LinearDiscriminantAnalysis(),\n",
    "    \"LogisticRegression\":LogisticRegression(),\n",
    "    \"SVC\":SVC(kernel='linear'),\n",
    "}\n",
    "\n",
    "for model_name, model in models.items():\n",
    "    model.fit(features_train,labels_train)\n",
    "    pred_labels_train=model.predict(features_train)\n",
    "    pred_labels_test=model.predict(features_test)\n",
    "\n",
    "    print(model_name)\n",
    "    print(\" - Accuracy train: {}\".format(accuracy_score(labels_train,pred_labels_train)))\n",
    "    print(\" - Accuracy test: {}\".format(accuracy_score(labels_test,pred_labels_test)))"
   ]
  },
  {
   "cell_type": "markdown",
   "metadata": {},
   "source": [
    "The models are more or less the same, and in terms of accuracy on the training and testing data, the actually best models is the SVC and the linear regression. Though this changes from run to run."
   ]
  },
  {
   "cell_type": "markdown",
   "metadata": {},
   "source": [
    "**Exercise 2**: Try the different models on the Boston housing data. Which one is doing best in terms of test accuracy?\n",
    "\n",
    "Inspect the following attributes of the learned models:\n",
    "\n",
    "GaussianNB: `theta_`, `sigma_` <br>\n",
    "LDA: `means_` <br>\n",
    "Logistic regression: `coef_` <br>\n",
    "SVC: `coef_`<br>\n",
    "\n",
    "Check the online documentation about the meaning of these attributes. How can the values of these attributes be used for explaining the classification model? Which of the input features are most important for the prediction? \n",
    "\n",
    "For this investigation it may be helpful to normalize the data before building the classifiers, using the code in the cell below (why is this useful?).\n",
    "\n"
   ]
  },
  {
   "cell_type": "code",
   "execution_count": 751,
   "metadata": {},
   "outputs": [],
   "source": [
    "def plot_stuff(model):\n",
    "    log_w = model.coef_\n",
    "    log_w.shape\n",
    "    plt.bar([x for x in range(log_w.shape[-1])], [w for w in model.coef_[0]])\n",
    "    "
   ]
  },
  {
   "cell_type": "code",
   "execution_count": 752,
   "metadata": {},
   "outputs": [
    {
     "name": "stdout",
     "output_type": "stream",
     "text": [
      "GaussianNB\n",
      "Theta_:[[6.17025490e+00 3.86197917e+00 1.43340104e+01 4.16666667e-02\n",
      "  6.08728125e-01 5.92274479e+00 8.17375000e+01 3.18688177e+00\n",
      "  1.25312500e+01 4.82015625e+02 1.94182292e+01 3.30052031e+02\n",
      "  1.77172396e+01]\n",
      " [8.40289733e-01 1.98475936e+01 7.85122995e+00 1.06951872e-01\n",
      "  5.02538503e-01 6.66057754e+00 5.47807487e+01 4.44473743e+00\n",
      "  6.31550802e+00 3.32502674e+02 1.74556150e+01 3.86060749e+02\n",
      "  7.60834225e+00]]\n",
      "Sigma_:[[1.26995585e+02 1.79044780e+02 3.82171000e+01 3.99586327e-02\n",
      "  1.38777658e-02 2.35488642e-01 4.66967893e+02 3.82661700e+00\n",
      "  9.48636348e+01 2.98979633e+04 3.19245619e+00 1.41280009e+04\n",
      "  4.54063449e+01]\n",
      " [4.38155165e+00 8.00368512e+02 3.49546410e+01 9.55412459e-02\n",
      "  8.31688365e-03 5.38370802e-01 7.55092278e+02 4.19516261e+00\n",
      "  3.61946004e+01 1.48830629e+04 4.56848585e+00 7.06504042e+02\n",
      "  1.28576505e+01]]\n",
      "____________________________\n",
      "LinearDiscriminantAnalysis\n",
      "Means_:[[6.17025490e+00 3.86197917e+00 1.43340104e+01 4.16666667e-02\n",
      "  6.08728125e-01 5.92274479e+00 8.17375000e+01 3.18688177e+00\n",
      "  1.25312500e+01 4.82015625e+02 1.94182292e+01 3.30052031e+02\n",
      "  1.77172396e+01]\n",
      " [8.40289733e-01 1.98475936e+01 7.85122995e+00 1.06951872e-01\n",
      "  5.02538503e-01 6.66057754e+00 5.47807487e+01 4.44473743e+00\n",
      "  6.31550802e+00 3.32502674e+02 1.74556150e+01 3.86060749e+02\n",
      "  7.60834225e+00]]\n",
      "____________________________\n",
      "LogisticRegression\n",
      "Coefficients_:[[-0.073321    0.01825682  0.06632243  0.08574932  0.01248096  0.33248465\n",
      "  -0.00393814 -0.35212304  0.08300445 -0.00330366 -0.43536406  0.03197008\n",
      "  -0.40763883]]\n",
      "____________________________\n",
      "SVC\n",
      "Coefficients_:[[-0.00307117  0.01337637  0.03279222  0.37537207 -0.5230589   0.77920659\n",
      "  -0.0193811  -0.460216    0.11620035 -0.00615412 -0.27163522  0.00501083\n",
      "  -0.30213219]]\n",
      "____________________________\n",
      "plotting linear discriminant analysis ceoficients\n",
      "plotting SVC coefficients\n"
     ]
    },
    {
     "data": {
      "image/png": "[encoded data removed]",
      "text/plain": [
       "<Figure size 432x288 with 1 Axes>"
      ]
     },
     "metadata": {
      "needs_background": "light"
     },
     "output_type": "display_data"
    }
   ],
   "source": [
    "for model_name, model in models.items():\n",
    "    print(model_name)\n",
    "    if(\"GaussianNB\" in model_name):\n",
    "        print(\"Theta_:\"+ str(model.theta_))\n",
    "        print(\"Sigma_:\"+ str(model.var_))\n",
    "    if(\"LinearDiscriminantAnalysis\" in model_name):\n",
    "        print(\"Means_:\"+ str(model.means_))\n",
    "    if(\"LogisticRegression\" in model_name):\n",
    "        print(\"Coefficients_:\"+ str(model.coef_))\n",
    "    if(\"SVC\" in model_name):\n",
    "        print(\"Coefficients_:\"+ str(model.coef_))\n",
    "    print(\"____________________________\")\n",
    "    \n",
    "print(\"plotting linear discriminant analysis ceoficients\")\n",
    "plot_stuff(models[\"LinearDiscriminantAnalysis\"])\n",
    "\n",
    "print(\"plotting SVC coefficients\")\n",
    "plot_stuff(models[\"SVC\"])"
   ]
  },
  {
   "cell_type": "markdown",
   "metadata": {},
   "source": [
    "Based on this it seem that the feature number 5 is the most important feature for the prediction.\n",
    "- Theta_: mean of each feature per class.\n",
    "- Sigma_: variance of each feature per class.\n",
    "- Means_: mean of each feature per class.\n",
    "- Coef_: coefficients of each feature per class."
   ]
  },
  {
   "cell_type": "code",
   "execution_count": 753,
   "metadata": {},
   "outputs": [],
   "source": [
    "from sklearn.preprocessing import StandardScaler\n",
    "scaler = StandardScaler()\n",
    "scaler.fit(features_train)\n",
    "features_train_norm=scaler.transform(features_train)\n",
    "features_test_norm=scaler.transform(features_test)"
   ]
  },
  {
   "cell_type": "code",
   "execution_count": 754,
   "metadata": {},
   "outputs": [
    {
     "name": "stdout",
     "output_type": "stream",
     "text": [
      "GaussianNB\n",
      " - Accuracy train: 0.7757255936675461\n",
      " - Accuracy test: 0.7480314960629921\n",
      "LinearDiscriminantAnalysis\n",
      " - Accuracy train: 0.862796833773087\n",
      " - Accuracy test: 0.84251968503937\n",
      "LogisticRegression\n",
      " - Accuracy train: 0.862796833773087\n",
      " - Accuracy test: 0.8503937007874016\n",
      "SVC\n",
      " - Accuracy train: 0.8786279683377308\n",
      " - Accuracy test: 0.8582677165354331\n"
     ]
    }
   ],
   "source": [
    "models = {\n",
    "    \"GaussianNB\":GaussianNB(),\n",
    "    \"LinearDiscriminantAnalysis\":LinearDiscriminantAnalysis(),\n",
    "    \"LogisticRegression\":LogisticRegression(),\n",
    "    \"SVC\":SVC(kernel='linear'),\n",
    "}\n",
    "\n",
    "for model_name, model in models.items():\n",
    "    model.fit(features_train_norm,labels_train)\n",
    "    pred_labels_train=model.predict(features_train_norm)\n",
    "    pred_labels_test=model.predict(features_test_norm)\n",
    "\n",
    "    print(model_name)\n",
    "    print(\" - Accuracy train: {}\".format(accuracy_score(labels_train,pred_labels_train)))\n",
    "    print(\" - Accuracy test: {}\".format(accuracy_score(labels_test,pred_labels_test)))"
   ]
  }
 ],
 "metadata": {
  "kernelspec": {
   "display_name": "Python 3 (ipykernel)",
   "language": "python",
   "name": "python3"
  },
  "language_info": {
   "codemirror_mode": {
    "name": "ipython",
    "version": 3
   },
   "file_extension": ".py",
   "mimetype": "text/x-python",
   "name": "python",
   "nbconvert_exporter": "python",
   "pygments_lexer": "ipython3",
   "version": "3.10.0"
  }
 },
 "nbformat": 4,
 "nbformat_minor": 2
}
