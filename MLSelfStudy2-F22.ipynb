{
 "cells": [
  {
   "cell_type": "code",
   "execution_count": 626,
   "metadata": {},
   "outputs": [],
   "source": [
    "import numpy as np\n",
    "import matplotlib as mpl\n",
    "import pandas as pd\n",
    "from numpy.random import multivariate_normal\n",
    "import matplotlib.pyplot as plt\n",
    "from sklearn.naive_bayes import GaussianNB\n",
    "from sklearn.discriminant_analysis import LinearDiscriminantAnalysis\n",
    "from sklearn.linear_model import LogisticRegression\n",
    "from sklearn.svm import SVC\n",
    "from sklearn import mixture\n",
    "from sklearn.model_selection import train_test_split\n",
    "from sklearn.datasets import make_moons,make_blobs\n",
    "from sklearn.metrics import accuracy_score"
   ]
  },
  {
   "cell_type": "markdown",
   "metadata": {},
   "source": [
    "A couple of helper functions we can use:"
   ]
  },
  {
   "cell_type": "code",
   "execution_count": 627,
   "metadata": {},
   "outputs": [],
   "source": [
    "def sample_2d_gaussian(meanx,meany,variance_x,variance_y,covariance,numsamps):\n",
    "    '''\n",
    "    Generates a random sample of size 'numsamps' from a 2-dimensional Gaussian distribution.\n",
    "    The Gaussian is defined by the mean vector (meanx,meany) and the \n",
    "    covariance matrix\n",
    "    \n",
    "    variance_x    covariance\n",
    "    covariance    variance_y\n",
    "    \n",
    "    All parameters can be freely chosen, except covariance, which must satisfy the inequality\n",
    "    \n",
    "    covariance <= sqrt(variance_x * variance_y)\n",
    "    '''\n",
    "    meanvec = np.array([meanx,meany])\n",
    "    covarmatrix = np.array([[variance_x,covariance],[covariance,variance_y]])\n",
    "    return multivariate_normal(meanvec,covarmatrix,numsamps)\n",
    "\n",
    "\n",
    "def maxpos(A):\n",
    "    '''\n",
    "    Takes an n x k array A, and returns 1-dim n array where the i'th\n",
    "    entry is the index of column in A where the i'th row of A has its\n",
    "    maximal value (application: turns a probabilitiy distribution over\n",
    "    k classes for n instances into a single prediction)\n",
    "    '''\n",
    "    return np.argmax(A,axis=1)\n",
    "    "
   ]
  },
  {
   "cell_type": "markdown",
   "metadata": {},
   "source": [
    "### Part 1: Decision regions for simple 2 dimensional datasets"
   ]
  },
  {
   "cell_type": "markdown",
   "metadata": {},
   "source": [
    "Loading/generating data: following are several alternative ways to get data consisting of the input features stored in 'features', and the class labels, stored in 'labels'.  Only execute one of the data generating cells, before moving on to the following code!"
   ]
  },
  {
   "cell_type": "markdown",
   "metadata": {},
   "source": [
    "**A**: sampling data from 2-dimensional Gaussian distributions. For reproducibility, one can fix a random seed."
   ]
  },
  {
   "cell_type": "markdown",
   "metadata": {},
   "source": [
    "np.random.seed(1)\n",
    "datasize=250\n",
    "mixturecoeff=np.array([0.4,0.2,0.4])\n",
    "componentsizes=(datasize*mixturecoeff).astype(int)\n",
    "\n",
    "# class0samp=sample_2d_gaussian(2,3,0.5,0.5,0.45,componentsizes[0])\n",
    "# class1samp=sample_2d_gaussian(5,3,1.0,0.5,-0.45,componentsizes[1])\n",
    "# class2samp=sample_2d_gaussian(3,2,0.5,0.5,0,componentsizes[2])\n",
    "\n",
    "class0samp=sample_2d_gaussian(50,3,8.0,8.0,1.0,componentsizes[0])\n",
    "class1samp=sample_2d_gaussian(40,8,1.4,0.5,-0.45,componentsizes[1])\n",
    "class2samp=sample_2d_gaussian(30,2,0.6,0.5,0,componentsizes[2])\n",
    "\n",
    "  \n",
    "  \n",
    "features=np.concatenate((class0samp,class1samp,class2samp),axis=0)\n",
    "labels=np.concatenate((np.zeros(componentsizes[0]),np.ones(componentsizes[1]),2*np.ones(componentsizes[2])))         "
   ]
  },
  {
   "cell_type": "markdown",
   "metadata": {},
   "source": [
    "**B**: Loading mi.txt data:"
   ]
  },
  {
   "cell_type": "code",
   "execution_count": 628,
   "metadata": {},
   "outputs": [],
   "source": [
    "midata = pd.read_csv(\"MI-labeled.txt\", sep=',')\n",
    "features = np.array(midata[['X1','X2']])\n",
    "classlabels=midata['Class']\n",
    "labels = np.zeros(len(classlabels))\n",
    "for i in range(len(classlabels)):\n",
    "    if classlabels[i] == 'I':\n",
    "        labels[i]=1"
   ]
  },
  {
   "cell_type": "markdown",
   "metadata": {},
   "source": [
    "Preparing meshgrid for plotting decision regions:"
   ]
  },
  {
   "cell_type": "code",
   "execution_count": 629,
   "metadata": {},
   "outputs": [],
   "source": [
    "maxvalx = np.max(features[:,0])\n",
    "maxvaly = np.max(features[:,1])\n",
    "minvalx = np.min(features[:,0])\n",
    "minvaly = np.min(features[:,1])\n",
    "border=2\n",
    "xinterval = (maxvalx-minvalx)/border\n",
    "yinterval = (maxvaly-minvaly)/border\n",
    "xx, yy = np.meshgrid(np.arange(minvalx-xinterval, maxvalx+xinterval, xinterval/100), np.arange(minvaly-yinterval, maxvaly+yinterval, yinterval/100))\n",
    "      "
   ]
  },
  {
   "cell_type": "markdown",
   "metadata": {},
   "source": [
    "Learning a classifier -- uncomment to select the classification model to use."
   ]
  },
  {
   "cell_type": "code",
   "execution_count": 630,
   "metadata": {},
   "outputs": [
    {
     "data": {
      "text/plain": [
       "GaussianNB()"
      ]
     },
     "execution_count": 630,
     "metadata": {},
     "output_type": "execute_result"
    }
   ],
   "source": [
    "model=GaussianNB()\n",
    "#model=LinearDiscriminantAnalysis()\n",
    "#model = LogisticRegression()\n",
    "#model = SVC(kernel='linear')\n",
    "\n",
    "model.fit(features,labels)"
   ]
  },
  {
   "cell_type": "markdown",
   "metadata": {},
   "source": [
    "Applying model to the meshgrid. All models return a quantitative \"likelihood\" for the different classes. For the probabilistic models, these are class label probabilities that are retrieved using the `.predict_proba` method. For the non-probabilistic SVC model, this is the `decision_function` method. In all cases, we classify a datapoint as belonging to the class with the maximal \"likelihood\" value."
   ]
  },
  {
   "cell_type": "code",
   "execution_count": 631,
   "metadata": {},
   "outputs": [],
   "source": [
    "Z=model.predict_proba(np.c_[xx.ravel(), yy.ravel()])\n",
    "#Z=model.decision_function(np.c_[xx.ravel(), yy.ravel()])\n",
    "meshclasses = maxpos(Z)\n",
    "#meshclasses = np.ones(Z.size)\n",
    "#meshclasses[Z<0]=0\n",
    "meshclasses = meshclasses.reshape(xx.shape)"
   ]
  },
  {
   "cell_type": "code",
   "execution_count": 632,
   "metadata": {},
   "outputs": [
    {
     "data": {
      "text/plain": [
       "(160000, 2)"
      ]
     },
     "execution_count": 632,
     "metadata": {},
     "output_type": "execute_result"
    }
   ],
   "source": [
    "Z.shape\n"
   ]
  },
  {
   "cell_type": "markdown",
   "metadata": {},
   "source": [
    "Plotting datapoints and decision regions"
   ]
  },
  {
   "cell_type": "code",
   "execution_count": 633,
   "metadata": {},
   "outputs": [
    {
     "data": {
      "image/png": "[encoded data removed]",
      "text/plain": [
       "<Figure size 432x288 with 1 Axes>"
      ]
     },
     "metadata": {
      "needs_background": "light"
     },
     "output_type": "display_data"
    }
   ],
   "source": [
    "plt.contourf(xx,yy,meshclasses,[-0.1,0.1,1,2],colors=('tomato','lightblue','lightgreen'))\n",
    "plt.scatter(features[:,0],features[:,1],c=labels, cmap = mpl.colors.ListedColormap(['r', 'b','g']))\n",
    "#plt.scatter(data[:,0],data[:,1],c=classlabels_numeric, cmap = mpl.colors.ListedColormap(['r', 'b']))\n",
    "plt.show()"
   ]
  },
  {
   "cell_type": "markdown",
   "metadata": {},
   "source": [
    "We also calculate the predictions on the (training) datapoints, and check the accuracy:"
   ]
  },
  {
   "cell_type": "code",
   "execution_count": 634,
   "metadata": {},
   "outputs": [
    {
     "name": "stdout",
     "output_type": "stream",
     "text": [
      "Accuracy: 1.0\n"
     ]
    }
   ],
   "source": [
    "pred_labels=model.predict(features)\n",
    "print(\"Accuracy: {}\".format(accuracy_score(labels,pred_labels)))"
   ]
  },
  {
   "cell_type": "markdown",
   "metadata": {},
   "source": [
    "**Exercise 1**: Experiment with the three classifiers Gaussian Naive Bayes, Linear Discriminant Analysis, Logistic Regression, and linear support vector machines. Use the MI data, and different mixtures of Gaussians you create by varying the parameters in `sample_2d_gaussian'. \n",
    "\n",
    "For the Gaussian mixture data:\n",
    "\n",
    "Create one or several linearly separable Gaussian mixture datasets (can be with only two components) for which some of the models give a perfect separation of the classes, and others don't. \n",
    "\n",
    "Create separate test sets using the same parameters for the Gaussian mixture as in the creation of the training set. Can you create a test/train dataset and find classifiers A and B, such that A is better than B on the training data, but B is better than A on the test set? Why is this not such an easy task for the datasets and classifiers we consider her?\n",
    "\n",
    "For the MI data:\n",
    "\n",
    "explain the structure of the decision regions you find for the different classifiers.\n"
   ]
  },
  {
   "cell_type": "markdown",
   "metadata": {},
   "source": [
    "The decision boudaries for the gaussian are somewhat rounded while the other are more straight lines:\n",
    "![Gaussian](imgs/Gaussian2.png)\n",
    "\n",
    "The three other look more or less the same, the only real diffrence being in some of the region sizes:\n",
    "Linear regression:\n",
    "\n",
    "![LinReg](imgs/LinReg2.png)\n",
    "Logitic regression:\n",
    "\n",
    "![LogReg](imgs/LogReg2.png)\n",
    "SVM:\n",
    "\n",
    "![LinSVC](imgs/LinSVC2.png)\n",
    "\n",
    "Here is a dataset where the linear discriminant analysis cannot separate the classes.\n",
    "But where the other models can.\n",
    "LDA:\n",
    "![LDA](imgs/LDA_FAIL2.png)\n",
    "An example of a perfect separation can be seen here with the Gaussian classifier:\n",
    "![Gaussian_perfect](imgs/Gaussian_succ2.png)\n",
    "\n",
    "For the test data if the gaussian data for the data uses the same parameters it will not be be noticeably different. But if the variance was high enough it would probably find some edge cases where one was better than the other.\n",
    "\n",
    "#### MI Data\n",
    "\n",
    "The distribution the MI data Works on all of the classifiers except for LDA, where the others perfectly separate the classes.\n",
    "\n",
    "The reason for this could be that the LDA assumes that the data will always have the same variance, but this is not the case for this dataset. So because of this the LDA cannot separate the classes, perfectly."
   ]
  },
  {
   "cell_type": "markdown",
   "metadata": {},
   "source": [
    "### Part 2: the Boston Housing data"
   ]
  },
  {
   "cell_type": "markdown",
   "metadata": {},
   "source": [
    "We next investigate some \"real\" data: the Boston housing dataset contains information on different socio-economic features in different areas around Boston, and the median house value in these areas. The usual machine learning problem for this dataset is the regression problem of predicting the median value. We can turn it into a binary prediction problem whether the median value is above the median (of the median values). \n",
    "\n",
    "The `load_boston` function returns the dataset in the form of a dictionary with attributes DESCR, data, and target."
   ]
  },
  {
   "cell_type": "code",
   "execution_count": 635,
   "metadata": {},
   "outputs": [
    {
     "name": "stdout",
     "output_type": "stream",
     "text": [
      ".. _boston_dataset:\n",
      "\n",
      "Boston house prices dataset\n",
      "---------------------------\n",
      "\n",
      "**Data Set Characteristics:**  \n",
      "\n",
      "    :Number of Instances: 506 \n",
      "\n",
      "    :Number of Attributes: 13 numeric/categorical predictive. Median Value (attribute 14) is usually the target.\n",
      "\n",
      "    :Attribute Information (in order):\n",
      "        - CRIM     per capita crime rate by town\n",
      "        - ZN       proportion of residential land zoned for lots over 25,000 sq.ft.\n",
      "        - INDUS    proportion of non-retail business acres per town\n",
      "        - CHAS     Charles River dummy variable (= 1 if tract bounds river; 0 otherwise)\n",
      "        - NOX      nitric oxides concentration (parts per 10 million)\n",
      "        - RM       average number of rooms per dwelling\n",
      "        - AGE      proportion of owner-occupied units built prior to 1940\n",
      "        - DIS      weighted distances to five Boston employment centres\n",
      "        - RAD      index of accessibility to radial highways\n",
      "        - TAX      full-value property-tax rate per $10,000\n",
      "        - PTRATIO  pupil-teacher ratio by town\n",
      "        - B        1000(Bk - 0.63)^2 where Bk is the proportion of black people by town\n",
      "        - LSTAT    % lower status of the population\n",
      "        - MEDV     Median value of owner-occupied homes in $1000's\n",
      "\n",
      "    :Missing Attribute Values: None\n",
      "\n",
      "    :Creator: Harrison, D. and Rubinfeld, D.L.\n",
      "\n",
      "This is a copy of UCI ML housing dataset.\n",
      "https://archive.ics.uci.edu/ml/machine-learning-databases/housing/\n",
      "\n",
      "\n",
      "This dataset was taken from the StatLib library which is maintained at Carnegie Mellon University.\n",
      "\n",
      "The Boston house-price data of Harrison, D. and Rubinfeld, D.L. 'Hedonic\n",
      "prices and the demand for clean air', J. Environ. Economics & Management,\n",
      "vol.5, 81-102, 1978.   Used in Belsley, Kuh & Welsch, 'Regression diagnostics\n",
      "...', Wiley, 1980.   N.B. Various transformations are used in the table on\n",
      "pages 244-261 of the latter.\n",
      "\n",
      "The Boston house-price data has been used in many machine learning papers that address regression\n",
      "problems.   \n",
      "     \n",
      ".. topic:: References\n",
      "\n",
      "   - Belsley, Kuh & Welsch, 'Regression diagnostics: Identifying Influential Data and Sources of Collinearity', Wiley, 1980. 244-261.\n",
      "   - Quinlan,R. (1993). Combining Instance-Based and Model-Based Learning. In Proceedings on the Tenth International Conference of Machine Learning, 236-243, University of Massachusetts, Amherst. Morgan Kaufmann.\n",
      "\n"
     ]
    },
    {
     "name": "stderr",
     "output_type": "stream",
     "text": [
      "C:\\Users\\Jeppe\\AppData\\Local\\Programs\\Python\\Python310\\lib\\site-packages\\sklearn\\utils\\deprecation.py:87: FutureWarning: Function load_boston is deprecated; `load_boston` is deprecated in 1.0 and will be removed in 1.2.\n",
      "\n",
      "    The Boston housing prices dataset has an ethical problem. You can refer to\n",
      "    the documentation of this function for further details.\n",
      "\n",
      "    The scikit-learn maintainers therefore strongly discourage the use of this\n",
      "    dataset unless the purpose of the code is to study and educate about\n",
      "    ethical issues in data science and machine learning.\n",
      "\n",
      "    In this special case, you can fetch the dataset from the original\n",
      "    source::\n",
      "\n",
      "        import pandas as pd\n",
      "        import numpy as np\n",
      "\n",
      "\n",
      "        data_url = \"http://lib.stat.cmu.edu/datasets/boston\"\n",
      "        raw_df = pd.read_csv(data_url, sep=\"\\s+\", skiprows=22, header=None)\n",
      "        data = np.hstack([raw_df.values[::2, :], raw_df.values[1::2, :2]])\n",
      "        target = raw_df.values[1::2, 2]\n",
      "\n",
      "    Alternative datasets include the California housing dataset (i.e.\n",
      "    :func:`~sklearn.datasets.fetch_california_housing`) and the Ames housing\n",
      "    dataset. You can load the datasets as follows::\n",
      "\n",
      "        from sklearn.datasets import fetch_california_housing\n",
      "        housing = fetch_california_housing()\n",
      "\n",
      "    for the California housing dataset and::\n",
      "\n",
      "        from sklearn.datasets import fetch_openml\n",
      "        housing = fetch_openml(name=\"house_prices\", as_frame=True)\n",
      "\n",
      "    for the Ames housing dataset.\n",
      "    \n",
      "  warnings.warn(msg, category=FutureWarning)\n"
     ]
    }
   ],
   "source": [
    "from sklearn.datasets import load_boston\n",
    "bostondata = load_boston() \n",
    "print(bostondata.DESCR)"
   ]
  },
  {
   "cell_type": "markdown",
   "metadata": {},
   "source": [
    "We generate our labels, and create a train/test split:"
   ]
  },
  {
   "cell_type": "code",
   "execution_count": 636,
   "metadata": {},
   "outputs": [],
   "source": [
    "labels = np.array([1 if y > np.median(bostondata['target']) else 0 for y in bostondata['target']])\n",
    "features = bostondata['data']\n",
    "features_train,features_test,labels_train,labels_test = train_test_split(features,labels)"
   ]
  },
  {
   "cell_type": "markdown",
   "metadata": {},
   "source": [
    "Selecting a model class, learning, and measuring accuracy:"
   ]
  },
  {
   "cell_type": "code",
   "execution_count": 637,
   "metadata": {},
   "outputs": [
    {
     "name": "stdout",
     "output_type": "stream",
     "text": [
      "GaussianNB\n",
      " - Accuracy train: 0.7598944591029023\n",
      " - Accuracy test: 0.7795275590551181\n",
      "LinearDiscriminantAnalysis\n",
      " - Accuracy train: 0.8337730870712401\n",
      " - Accuracy test: 0.8740157480314961\n",
      "LogisticRegression\n",
      " - Accuracy train: 0.8522427440633246\n",
      " - Accuracy test: 0.8503937007874016\n"
     ]
    },
    {
     "name": "stderr",
     "output_type": "stream",
     "text": [
      "C:\\Users\\Jeppe\\AppData\\Local\\Programs\\Python\\Python310\\lib\\site-packages\\sklearn\\linear_model\\_logistic.py:814: ConvergenceWarning: lbfgs failed to converge (status=1):\n",
      "STOP: TOTAL NO. of ITERATIONS REACHED LIMIT.\n",
      "\n",
      "Increase the number of iterations (max_iter) or scale the data as shown in:\n",
      "    https://scikit-learn.org/stable/modules/preprocessing.html\n",
      "Please also refer to the documentation for alternative solver options:\n",
      "    https://scikit-learn.org/stable/modules/linear_model.html#logistic-regression\n",
      "  n_iter_i = _check_optimize_result(\n"
     ]
    },
    {
     "name": "stdout",
     "output_type": "stream",
     "text": [
      "SVC\n",
      " - Accuracy train: 0.8601583113456465\n",
      " - Accuracy test: 0.8818897637795275\n"
     ]
    }
   ],
   "source": [
    "models = {\n",
    "    \"GaussianNB\":GaussianNB(),\n",
    "    \"LinearDiscriminantAnalysis\":LinearDiscriminantAnalysis(),\n",
    "    \"LogisticRegression\":LogisticRegression(),\n",
    "    \"SVC\":SVC(kernel='linear'),\n",
    "}\n",
    "\n",
    "for model_name, model in models.items():\n",
    "    model.fit(features_train,labels_train)\n",
    "    pred_labels_train=model.predict(features_train)\n",
    "    pred_labels_test=model.predict(features_test)\n",
    "\n",
    "    print(model_name)\n",
    "    print(\" - Accuracy train: {}\".format(accuracy_score(labels_train,pred_labels_train)))\n",
    "    print(\" - Accuracy test: {}\".format(accuracy_score(labels_test,pred_labels_test)))"
   ]
  },
  {
   "cell_type": "markdown",
   "metadata": {},
   "source": [
    "The models are more or less the same, and in terms of accuracy on the training and testing data, the actually best models is the SVC and the linear regression. Though this changes from run to run."
   ]
  },
  {
   "cell_type": "markdown",
   "metadata": {},
   "source": [
    "**Exercise 2**: Try the different models on the Boston housing data. Which one is doing best in terms of test accuracy?\n",
    "\n",
    "Inspect the following attributes of the learned models:\n",
    "\n",
    "GaussianNB: `theta_`, `sigma_` <br>\n",
    "LDA: `means_` <br>\n",
    "Logistic regression: `coef_` <br>\n",
    "SVC: `coef_`<br>\n",
    "\n",
    "Check the online documentation about the meaning of these attributes. How can the values of these attributes be used for explaining the classification model? Which of the input features are most important for the prediction? \n",
    "\n",
    "For this investigation it may be helpful to normalize the data before building the classifiers, using the code in the cell below (why is this useful?).\n",
    "\n"
   ]
  },
  {
   "cell_type": "code",
   "execution_count": 641,
   "metadata": {},
   "outputs": [
    {
     "name": "stdout",
     "output_type": "stream",
     "text": [
      "GaussianNB\n",
      "Theta_:[[ 0.33147444 -0.32902956  0.47713023 -0.09749975  0.4756458  -0.51310001\n",
      "   0.48944442 -0.32072039  0.34428745  0.42137961  0.47648238 -0.32526046\n",
      "   0.68044259]\n",
      " [-0.30623527  0.30397654 -0.44080052  0.09007591 -0.43942912  0.47403148\n",
      "  -0.45217708  0.29630005 -0.31807267 -0.38929487 -0.44020199  0.30049444\n",
      "  -0.62863224]]\n",
      "Sigma_:[[1.78862797 0.34965941 0.81754389 0.65769846 1.01241966 0.50326563\n",
      "  0.55166691 0.86274011 1.25308167 1.09146305 0.6492106  1.76881953\n",
      "  0.83721166]\n",
      " [0.07613064 1.40840327 0.76393916 1.29934192 0.58641543 0.99098056\n",
      "  0.98841639 0.94398544 0.55550985 0.59990973 0.92055326 0.10168416\n",
      "  0.32746666]]\n",
      "____________________________\n",
      "LinearDiscriminantAnalysis\n",
      "Means_:[[ 0.33147444 -0.32902956  0.47713023 -0.09749975  0.4756458  -0.51310001\n",
      "   0.48944442 -0.32072039  0.34428745  0.42137961  0.47648238 -0.32526046\n",
      "   0.68044259]\n",
      " [-0.30623527  0.30397654 -0.44080052  0.09007591 -0.43942912  0.47403148\n",
      "  -0.45217708  0.29630005 -0.31807267 -0.38929487 -0.44020199  0.30049444\n",
      "  -0.62863224]]\n",
      "____________________________\n",
      "LogisticRegression\n",
      "Coefficients_:[[-4.91670794e-01  1.37138059e-01 -4.95803136e-04  3.68373085e-01\n",
      "  -7.99156832e-01  8.24300261e-01 -6.18248582e-01 -1.14559316e+00\n",
      "   1.26920761e+00 -5.95503656e-01 -8.98709900e-01  3.45681684e-01\n",
      "  -1.88948145e+00]]\n",
      "____________________________\n",
      "SVC\n",
      "Coefficients_:[[-0.37563438  0.06784059  0.18469633  0.39486253 -0.78858454  0.80381195\n",
      "  -0.190142   -0.66263126  1.21688644 -0.74176987 -0.52510837  0.26861856\n",
      "  -1.47840701]]\n",
      "____________________________\n"
     ]
    }
   ],
   "source": [
    "for model_name, model in models.items():\n",
    "    print(model_name)\n",
    "    if(\"GaussianNB\" in model_name):\n",
    "        print(\"Theta_:\"+ str(model.theta_))\n",
    "        print(\"Sigma_:\"+ str(model.var_))\n",
    "    if(\"LinearDiscriminantAnalysis\" in model_name):\n",
    "        print(\"Means_:\"+ str(model.means_))\n",
    "    if(\"LogisticRegression\" in model_name):\n",
    "        print(\"Coefficients_:\"+ str(model.coef_))\n",
    "    if(\"SVC\" in model_name):\n",
    "        print(\"Coefficients_:\"+ str(model.coef_))\n",
    "    print(\"____________________________\")"
   ]
  },
  {
   "cell_type": "markdown",
   "metadata": {},
   "source": [
    "- Theta_: mean of each feature per class.\n",
    "- Sigma_: variance of each feature per class.\n",
    "- Means_: mean of each feature per class.\n",
    "- Coef_: coefficients of each feature per class."
   ]
  },
  {
   "cell_type": "code",
   "execution_count": 642,
   "metadata": {},
   "outputs": [],
   "source": [
    "from sklearn.preprocessing import StandardScaler\n",
    "scaler = StandardScaler()\n",
    "scaler.fit(features_train)\n",
    "features_train_norm=scaler.transform(features_train)\n",
    "features_test_norm=scaler.transform(features_test)"
   ]
  },
  {
   "cell_type": "code",
   "execution_count": 643,
   "metadata": {},
   "outputs": [
    {
     "name": "stdout",
     "output_type": "stream",
     "text": [
      "GaussianNB\n",
      " - Accuracy train: 0.7598944591029023\n",
      " - Accuracy test: 0.7795275590551181\n",
      "LinearDiscriminantAnalysis\n",
      " - Accuracy train: 0.8337730870712401\n",
      " - Accuracy test: 0.8740157480314961\n",
      "LogisticRegression\n",
      " - Accuracy train: 0.8654353562005277\n",
      " - Accuracy test: 0.889763779527559\n",
      "SVC\n",
      " - Accuracy train: 0.8759894459102903\n",
      " - Accuracy test: 0.8818897637795275\n"
     ]
    }
   ],
   "source": [
    "models = {\n",
    "    \"GaussianNB\":GaussianNB(),\n",
    "    \"LinearDiscriminantAnalysis\":LinearDiscriminantAnalysis(),\n",
    "    \"LogisticRegression\":LogisticRegression(),\n",
    "    \"SVC\":SVC(kernel='linear'),\n",
    "}\n",
    "\n",
    "for model_name, model in models.items():\n",
    "    model.fit(features_train_norm,labels_train)\n",
    "    pred_labels_train=model.predict(features_train_norm)\n",
    "    pred_labels_test=model.predict(features_test_norm)\n",
    "\n",
    "    print(model_name)\n",
    "    print(\" - Accuracy train: {}\".format(accuracy_score(labels_train,pred_labels_train)))\n",
    "    print(\" - Accuracy test: {}\".format(accuracy_score(labels_test,pred_labels_test)))"
   ]
  }
 ],
 "metadata": {
  "kernelspec": {
   "display_name": "Python 3 (ipykernel)",
   "language": "python",
   "name": "python3"
  },
  "language_info": {
   "codemirror_mode": {
    "name": "ipython",
    "version": 3
   },
   "file_extension": ".py",
   "mimetype": "text/x-python",
   "name": "python",
   "nbconvert_exporter": "python",
   "pygments_lexer": "ipython3",
   "version": "3.10.0"
  }
 },
 "nbformat": 4,
 "nbformat_minor": 2
}
