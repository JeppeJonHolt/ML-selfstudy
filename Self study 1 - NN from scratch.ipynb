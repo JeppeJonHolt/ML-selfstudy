{
 "cells": [
  {
   "cell_type": "markdown",
   "metadata": {},
   "source": [
    "# Self study 1\n",
    "\n",
    "In this self study you should work on the code examples below together with the associated questions. The notebook illustrates a basic neural network implementation, where we implement most of the relevant functions from scratch, except for the calculation of the gradients, for which we rely on the functionality provided by <a urel=\"https://pytorch.org\">PyTorch</a>. \n",
    "\n",
    "Since we rely on PyTorch functionality, we will also be using PyTorch's tensor data structure. This data structure operates in much the same way as numpy's ndarrays. You can find a brief introduction to PyTorch's tensors <a href=\"https://pytorch.org/tutorials/beginner/basics/tensorqs_tutorial.html\">here</a>.  \n",
    "\n",
    "\n",
    "\n",
    "The code illustrates the key concepts involved in the learning neural network. Go carefully through the code before starting to answer the questions at the end."
   ]
  },
  {
   "cell_type": "markdown",
   "metadata": {},
   "source": [
    "First we import the modules used in this selfstudy"
   ]
  },
  {
   "cell_type": "code",
   "execution_count": 74,
   "metadata": {},
   "outputs": [],
   "source": [
    "import torch\n",
    "from torchvision import datasets, transforms\n",
    "from matplotlib import pyplot\n",
    "import matplotlib.pyplot as plt\n",
    "import numpy as np"
   ]
  },
  {
   "cell_type": "markdown",
   "metadata": {},
   "source": [
    "Through torch load the MNIST data set, which we will use in this self study. The MNIST database consists of grey scale images of handwritten digits. Each image is of size $28\\times 28$; see figure below for an illustration. The data set is divided into a training set consisting of $60000$ images and a test set with $10000$ images; in both\n",
    "data sets the images are labeled with the correct digits. If interested, you can find more information about the MNIST data set at http://yann.lecun.com/exdb/mnist/, including accuracy results for various machine learning methods.\n",
    "\n",
    "![MNIST DATA](MNIST-dataset.png)"
   ]
  },
  {
   "cell_type": "markdown",
   "metadata": {},
   "source": [
    "Using the data loader provided by torch we have an easy way of loading in data in batches (here of size 64). We can also make various other transformation of the data, such as normalization. The details for loading the data are not really that important, but if yiu are curious, you can find a quick introduction <a href=\"https://pytorch.org/tutorials/beginner/basics/quickstart_tutorial.html\">here</a>."
   ]
  },
  {
   "cell_type": "code",
   "execution_count": 75,
   "metadata": {},
   "outputs": [],
   "source": [
    "batch_size = 128\n",
    "train_loader = torch.utils.data.DataLoader(\n",
    "        datasets.MNIST('../data', train=True, download=True,\n",
    "                       transform=transforms.Compose([\n",
    "                           transforms.ToTensor(),\n",
    "                           transforms.Normalize((0.1307,), (0.3081,))\n",
    "                       ])),\n",
    "        batch_size=batch_size, shuffle=True)\n",
    "test_loader = torch.utils.data.DataLoader(\n",
    "        datasets.MNIST('../data', train=False, transform=transforms.Compose([\n",
    "            transforms.ToTensor(),\n",
    "            transforms.Normalize((0.1307,), (0.3081,))\n",
    "        ])),\n",
    "        batch_size=batch_size, shuffle=True)"
   ]
  },
  {
   "cell_type": "markdown",
   "metadata": {},
   "source": [
    "In the cell above, we are loading data in batches, which is subsequently used during optimization. We didn't discuss batch based learning during the last lecture, but please take a look at Slides 24 and 25 to get the gist of the approach. We will cover it in more detail during the next lecture.   \n",
    "\n",
    "Each batch is a list of two elements. The first element encodes the digit and has dimensions [64,1,28,28] (the figures are greyscale with no rbg channel, hence the '1'), and the second element contains the class/label information. "
   ]
  },
  {
   "cell_type": "code",
   "execution_count": 76,
   "metadata": {},
   "outputs": [
    {
     "name": "stdout",
     "output_type": "stream",
     "text": [
      "Batch dimension (digit): torch.Size([128, 1, 28, 28])\n",
      "Batch dimension (target): torch.Size([128])\n",
      "Target: 3 with shape torch.Size([])\n"
     ]
    },
    {
     "data": {
      "image/png": "[encoded data removed]",
      "text/plain": [
       "<Figure size 432x288 with 1 Axes>"
      ]
     },
     "metadata": {
      "needs_background": "light"
     },
     "output_type": "display_data"
    }
   ],
   "source": [
    "batch = iter(train_loader).next()\n",
    "print(f\"Batch dimension (digit): {batch[0].shape}\")\n",
    "print(f\"Batch dimension (target): {batch[1].shape}\")\n",
    "digit_batch = batch[0]\n",
    "img = digit_batch[0,:]\n",
    "pyplot.imshow(img.reshape((28, 28)), cmap=\"gray\")\n",
    "print(f\"Target: {batch[1][0]} with shape {batch[1][0].shape}\")"
   ]
  },
  {
   "cell_type": "markdown",
   "metadata": {},
   "source": [
    "With PyTorch we can specify that the tensors require gradients. This will make PyTorch record all operations performed on the tensors, so that we can afterwards calculate the gradients automatically using back propagation. See also the code example from the last lecture."
   ]
  },
  {
   "cell_type": "markdown",
   "metadata": {},
   "source": [
    "For the first part of this self study we will specify a neural network, which will encode a softmax function (see, e.g., Page 180 in <a href=\"https://www.deeplearningbook.org/contents/mlp.html\">The Deep Learning book</a>). For this we need a (randomly initialized) weight matrix and a bias, and for both of them we need their gradients wrt. our error function (yet to be defined) in order to perform learning. Note that to facilitate matrix multiplication we will flatten our image from $28\\times 28$ to $784$. "
   ]
  },
  {
   "cell_type": "code",
   "execution_count": 77,
   "metadata": {},
   "outputs": [],
   "source": [
    "# weights = torch.zeros(784, 10) / np.sqrt(784)\n",
    "# weights = torch.ones(784, 10) / np.sqrt(784)\n",
    "weights = torch.randn(784, 10) / np.sqrt(784)\n",
    "weights.requires_grad_()\n",
    "bias = torch.zeros(10, requires_grad=True)\n",
    "# bias = torch.ones(10, requires_grad=True)\n",
    "# bias = torch.randn(10, requires_grad=True)"
   ]
  },
  {
   "cell_type": "markdown",
   "metadata": {},
   "source": [
    "Out model specification"
   ]
  },
  {
   "cell_type": "code",
   "execution_count": 78,
   "metadata": {},
   "outputs": [],
   "source": [
    "def softmax(x):\n",
    "    return x.exp() / x.exp().sum(-1).unsqueeze(-1)\n",
    "\n",
    "def model(xb):\n",
    "    return softmax(xb @ weights + bias)"
   ]
  },
  {
   "cell_type": "markdown",
   "metadata": {},
   "source": [
    "Let's test our model (with our randomly initialized weights)"
   ]
  },
  {
   "cell_type": "code",
   "execution_count": 79,
   "metadata": {},
   "outputs": [
    {
     "name": "stdout",
     "output_type": "stream",
     "text": [
      "Batch shape: torch.Size([128, 784])\n",
      "Prediction on first image tensor([0.0549, 0.1680, 0.0368, 0.0546, 0.0120, 0.0459, 0.0275, 0.2063, 0.3480,\n",
      "        0.0459], grad_fn=<SelectBackward0>)\n",
      "Corresponding classification: 8\n"
     ]
    }
   ],
   "source": [
    "# We flatten the digit representation so that it is consistent with the weight matrix\n",
    "xb = digit_batch.flatten(start_dim=1)\n",
    "print(f\"Batch shape: {xb.shape}\")\n",
    "preds = model(xb)\n",
    "print(f\"Prediction on first image {preds[0]}\")\n",
    "print(f\"Corresponding classification: {preds[0].argmax()}\")"
   ]
  },
  {
   "cell_type": "markdown",
   "metadata": {},
   "source": [
    "Next we define our loss function, in this case the log-loss (or negative log-likelihood):"
   ]
  },
  {
   "cell_type": "code",
   "execution_count": 80,
   "metadata": {},
   "outputs": [
    {
     "name": "stdout",
     "output_type": "stream",
     "text": [
      "tensor(2.5597, grad_fn=<MeanBackward0>)\n"
     ]
    }
   ],
   "source": [
    "def nll(input, target):\n",
    "    return (-input[range(target.shape[0]), target].log()).mean() \n",
    "loss_func = nll\n",
    "\n",
    "# Make a test calculation\n",
    "yb = batch[1]\n",
    "print(loss_func(preds,yb))"
   ]
  },
  {
   "cell_type": "markdown",
   "metadata": {},
   "source": [
    "In the end, we are interested in the accuracy of our model"
   ]
  },
  {
   "cell_type": "code",
   "execution_count": 81,
   "metadata": {},
   "outputs": [],
   "source": [
    "def accuracy(out, yb):\n",
    "    preds = torch.argmax(out, dim=1)\n",
    "    return (preds == yb).float().mean()"
   ]
  },
  {
   "cell_type": "code",
   "execution_count": 82,
   "metadata": {},
   "outputs": [
    {
     "name": "stdout",
     "output_type": "stream",
     "text": [
      "Accuracy of model on batch (with random weights): 0.1171875\n"
     ]
    }
   ],
   "source": [
    "print(f\"Accuracy of model on batch (with random weights): {accuracy(preds, yb)}\")"
   ]
  },
  {
   "cell_type": "markdown",
   "metadata": {},
   "source": [
    "Now we are ready to combine it all and perform learning"
   ]
  },
  {
   "cell_type": "code",
   "execution_count": 83,
   "metadata": {},
   "outputs": [
    {
     "name": "stdout",
     "output_type": "stream",
     "text": [
      "Epoch: 0, B-idx: 0, Training loss: 2.5748256376303083\n",
      "Epoch: 0, B-idx: 50, Training loss: 1.1313134894442203\n",
      "Epoch: 0, B-idx: 100, Training loss: 0.8285673403028232\n",
      "Epoch: 0, B-idx: 150, Training loss: 0.6984130316960023\n",
      "Epoch: 0, B-idx: 200, Training loss: 0.6253291418049127\n",
      "Epoch: 0, B-idx: 250, Training loss: 0.5761918047470833\n",
      "Epoch: 0, B-idx: 300, Training loss: 0.5424223598767953\n",
      "Epoch: 0, B-idx: 350, Training loss: 0.5159875018510229\n",
      "Epoch: 0, B-idx: 400, Training loss: 0.49547370416777475\n",
      "Epoch: 0, B-idx: 450, Training loss: 0.4787510371665711\n"
     ]
    }
   ],
   "source": [
    "epochs = 1  # how many epochs to train for\n",
    "lr = 0.005  # learning rate\n",
    "\n",
    "train_losses = []\n",
    "for epoch in range(epochs):\n",
    "\n",
    "    for batch_idx, (xb, yb) in enumerate(train_loader):\n",
    "\n",
    "        xb = xb.squeeze().flatten(start_dim=1)\n",
    "        pred = model(xb)\n",
    "        Momentum = True\n",
    "        v = torch.zeros(weights.shape)\n",
    "        # We specify the loss\n",
    "        loss = loss_func(pred, yb)\n",
    "        # and perform backpropagation    \n",
    "        loss.backward()\n",
    "        # Lastly we update the weights and bias (torch.no_grad() ensures that no gradient \n",
    "        # calculations are taking place in this part of the code)\n",
    "        with torch.no_grad():\n",
    "            if Momentum:\n",
    "                mu = 0.9\n",
    "                v = mu * v - lr * weights.grad\n",
    "                weights += v\n",
    "            else:\n",
    "                weights -= weights.grad * lr\n",
    "            bias -= bias.grad * lr\n",
    "            \n",
    "            # After updating we set the gradients to zero so that we ar eready for the next round\n",
    "            weights.grad.zero_()\n",
    "            bias.grad.zero_()\n",
    "                    \n",
    "            if batch_idx % 50 == 0:\n",
    "                with torch.no_grad():\n",
    "                    train_loss = np.mean([loss_func(model(txb.squeeze().flatten(start_dim=1)), tyb).item() for txb, tyb in train_loader])\n",
    "                    print(f\"Epoch: {epoch}, B-idx: {batch_idx}, Training loss: {train_loss}\")\n",
    "                    train_losses.append(train_loss)"
   ]
  },
  {
   "cell_type": "markdown",
   "metadata": {},
   "source": [
    "Plot the evolution of the training loss"
   ]
  },
  {
   "cell_type": "code",
   "execution_count": 84,
   "metadata": {
    "scrolled": true
   },
   "outputs": [
    {
     "data": {
      "text/plain": [
       "[<matplotlib.lines.Line2D at 0x1a513b1ce20>]"
      ]
     },
     "execution_count": 84,
     "metadata": {},
     "output_type": "execute_result"
    },
    {
     "data": {
      "image/png": "[encoded data removed]",
      "text/plain": [
       "<Figure size 432x288 with 1 Axes>"
      ]
     },
     "metadata": {
      "needs_background": "light"
     },
     "output_type": "display_data"
    }
   ],
   "source": [
    "plt.plot(range(len(train_losses)), train_losses)\n"
   ]
  },
  {
   "cell_type": "markdown",
   "metadata": {},
   "source": [
    "__Exercise:__ \n",
    "1. Experiment with different variations of the gradient descent implementation; try varying the learning rate and the batch size. Assuming that you have a fixed time budget (say 2 minutes for learning), what can we then say about the effect of changing the parameters?\n",
    "2. Implement momentum in the learning algorithm. How does it affect the results?\n",
    "3. Try with different initialization schemes for the parameters (e.g. allowing for larger values). How does it affect the behavior of the algorithm?\n",
    "4. Analyze the behavior of the algorithm on the test set and implement a method for evaluating the accuracy over the entire training/test set.\n",
    "5. If you feel adventorous, you are welcome to try to specify and experiment with other more advanced model architectures (cell 23). "
   ]
  },
  {
   "cell_type": "markdown",
   "metadata": {},
   "source": [
    "Ex 1:\n",
    "The initial settings for the algorithm is as follows:\n",
    "- Batch size: 64\n",
    "- learning rate: 0.01\n",
    "- Epochs: 1\n",
    "- training time: 5 minutes\n",
    "- final loss: 0.35197177977323024\n",
    "\n",
    "When chancing the batch size to 32 the changes are:\n",
    "- Batch size: 32\n",
    "- training time: 10 minutes 17 seconds\n",
    "- final loss: 0.32472430435617766\n",
    "When lowering the Batch size to half the training time more than doublets and the loss becomes slightly better.\n",
    "\n",
    "When changing the batch size to 128 the changes are:\n",
    "- Batch size: 128\n",
    "- training time: 2 minutes 30 seconds\n",
    "- final loss: 0.3095319336538376\n",
    "Larger batch sizes results in a much better loss and nearly half the training time of the original settings.\n",
    "\n",
    "Continuing with the larger batch size, because it provided the best results we can now try to change the learning rate.\n",
    " - doubling the learning rate results to 0.02.\n",
    "- final loss: 0.2989273354379353\n",
    "training time 2 minutes 50 seconds\n",
    "\n",
    "Halving the learning rate to 0.005\n",
    "results in:\n",
    "- final loss: 0.2956689561226729\n",
    "- training time: 2:50 seconds"
   ]
  },
  {
   "cell_type": "markdown",
   "metadata": {},
   "source": [
    "Ex 2:\n",
    "When adding momentum to the best of the model while changing nothing else.\n",
    "This configuration results in a 10 seconds longer training time at 3 minutes and the best loss yet:\n",
    "- final loss: 0.2934094262656881"
   ]
  },
  {
   "cell_type": "markdown",
   "metadata": {},
   "source": [
    "Ex 3:\n",
    "Continuing with momentum as that has the best results as of yet.\n",
    "The first modification made will be to change the initialization of the weights in the network. \n",
    "Initials these were randomly initialized, but we will try to initialized them all as ones and then as zeros and se what effect it will have on the network.\n",
    "Initializing the weights to all be 1 results in a much worse loss:\n",
    "- final loss: 0.47361575260853717\n",
    "\n",
    "Initializing the weights to all be 0 results in a much worse loss:\n",
    "- final loss: 0.4583927903221106\n",
    "Both of these options seem worse than random initialization.\n",
    "\n",
    "Now to to give the bias the same treatment, initially this is set to be all zero, so the random and ones will be tested.\n",
    "Initializing the bias to all be 1.\n",
    "- final loss: 0.5099158100863256\n",
    "- training time: 3:00\n",
    "\n",
    "Initializing the bias to all be random.\n",
    "- final loss: 2:53\n",
    "- training time: 0.4769889817181935\n",
    "\n",
    "I suspect some of the results are worse because the my learning rate is too low. And the algorithm is not converging fast enough.\n"
   ]
  },
  {
   "cell_type": "markdown",
   "metadata": {},
   "source": [
    "Ex 4:\n",
    "To evaluate the model on the test set, we will use the losses on the test set, and take the mean loss on the finished model."
   ]
  },
  {
   "cell_type": "code",
   "execution_count": 85,
   "metadata": {},
   "outputs": [
    {
     "name": "stdout",
     "output_type": "stream",
     "text": [
      "0.448791315661201\n"
     ]
    }
   ],
   "source": [
    "# Evaluate the model on the test loader\n",
    "def evaluate(model, test_loader):\n",
    "    test_losses = []\n",
    "    for txb, tyb in test_loader:\n",
    "        txb = txb.squeeze().flatten(start_dim=1)\n",
    "        test_losses.append(loss_func(model(txb), tyb).item())\n",
    "    return np.mean(test_losses)\n",
    "\n",
    "print(evaluate(model, test_loader))"
   ]
  }
 ],
 "metadata": {
  "interpreter": {
   "hash": "38001b81840c7623c04998ed3ca85d36ff062b0eeba078e8c17026f469339bfb"
  },
  "kernelspec": {
   "display_name": "ML-2021",
   "language": "python",
   "name": "python3"
  },
  "language_info": {
   "codemirror_mode": {
    "name": "ipython",
    "version": 3
   },
   "file_extension": ".py",
   "mimetype": "text/x-python",
   "name": "python",
   "nbconvert_exporter": "python",
   "pygments_lexer": "ipython3",
   "version": "3.10.0"
  }
 },
 "nbformat": 4,
 "nbformat_minor": 2
}
